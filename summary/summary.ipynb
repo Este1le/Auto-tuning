{
 "cells": [
  {
   "cell_type": "code",
   "execution_count": 1,
   "metadata": {
    "collapsed": true
   },
   "outputs": [],
   "source": [
    "with open(\"res\") as f:\n",
    "    res = f.readlines()"
   ]
  },
  {
   "cell_type": "code",
   "execution_count": 2,
   "metadata": {
    "collapsed": true
   },
   "outputs": [],
   "source": [
    "res = eval(res[0])"
   ]
  },
  {
   "cell_type": "code",
   "execution_count": 7,
   "metadata": {},
   "outputs": [
    {
     "data": {
      "text/plain": [
       "({'architecture': 'cnn',\n",
       "  'batch_size': 4096.0,\n",
       "  'bpe_symbols': 10000.0,\n",
       "  'cnn_kernel_width': 3.0,\n",
       "  'cnn_num_hidden': 1024.0,\n",
       "  'initial_learning_rate': 0.0003,\n",
       "  'num_embed': 1024.0,\n",
       "  'num_layers': 10.0},\n",
       " {'dev_cpu_time': 1649.914,\n",
       "  'dev_ppl': 25.638503,\n",
       "  'gpu_memory': 5759,\n",
       "  'num_param': 190404372,\n",
       "  'num_updates': 38000})"
      ]
     },
     "execution_count": 7,
     "metadata": {},
     "output_type": "execute_result"
    }
   ],
   "source": [
    "res[0]"
   ]
  },
  {
   "cell_type": "code",
   "execution_count": 9,
   "metadata": {},
   "outputs": [
    {
     "data": {
      "text/plain": [
       "({'architecture': 'rnn',\n",
       "  'batch_size': 4096.0,\n",
       "  'bpe_symbols': 10000.0,\n",
       "  'initial_learning_rate': 0.0006,\n",
       "  'num_embed': 256.0,\n",
       "  'num_layers': 4.0,\n",
       "  'rnn_cell_type': 'gru',\n",
       "  'rnn_num_hidden': 512.0},\n",
       " {'dev_cpu_time': 661.677,\n",
       "  'dev_ppl': 36.382934,\n",
       "  'gpu_memory': 6671,\n",
       "  'num_param': 24043796,\n",
       "  'num_updates': 404000})"
      ]
     },
     "execution_count": 9,
     "metadata": {},
     "output_type": "execute_result"
    }
   ],
   "source": [
    "res[100]"
   ]
  },
  {
   "cell_type": "code",
   "execution_count": 10,
   "metadata": {},
   "outputs": [
    {
     "data": {
      "text/plain": [
       "({'architecture': 'trans',\n",
       "  'batch_size': 4096.0,\n",
       "  'bpe_symbols': 50000.0,\n",
       "  'initial_learning_rate': 0.001,\n",
       "  'num_embed': 256.0,\n",
       "  'num_layers': 2.0,\n",
       "  'transformer_attention_heads': 8.0,\n",
       "  'transformer_feed_forward_num_hidden': 2048.0,\n",
       "  'transformer_model_size': 256.0},\n",
       " {'dev_cpu_time': 429.392,\n",
       "  'dev_ppl': 27.935406,\n",
       "  'gpu_memory': 5089,\n",
       "  'num_param': 27952724,\n",
       "  'num_updates': 40000})"
      ]
     },
     "execution_count": 10,
     "metadata": {},
     "output_type": "execute_result"
    }
   ],
   "source": [
    "res[500]"
   ]
  },
  {
   "cell_type": "code",
   "execution_count": 3,
   "metadata": {
    "collapsed": true
   },
   "outputs": [],
   "source": [
    "rnn_hyps = ['batch_size','initial_learning_rate', 'num_embed', 'num_layers', 'rnn_cell_type', 'rnn_num_hidden']\n",
    "cnn_hyps = ['batch_size','cnn_kernel_width','cnn_num_hidden','initial_learning_rate','num_embed','num_layers']\n",
    "trans_hyps = ['batch_size','initial_learning_rate','num_embed','num_layers','transformer_attention_heads','transformer_feed_forward_num_hidden','transformer_model_size']"
   ]
  },
  {
   "cell_type": "code",
   "execution_count": 4,
   "metadata": {
    "collapsed": true
   },
   "outputs": [],
   "source": [
    "def make_lst(oneres, hyp_lst):\n",
    "    vals = [oneres[0][h] for h in hyp_lst]\n",
    "    return vals"
   ]
  },
  {
   "cell_type": "code",
   "execution_count": 5,
   "metadata": {
    "collapsed": true
   },
   "outputs": [],
   "source": [
    "def check_single_eval_two(res, hyp, archi, hyp_vals):\n",
    "    if archi==\"rnn\":\n",
    "        hyp_lst = list(rnn_hyps)\n",
    "    elif archi==\"cnn\":\n",
    "        hyp_lst = list(cnn_hyps)\n",
    "    elif archi==\"trans\":\n",
    "        hyp_lst = list(trans_hyps)\n",
    "    hyp_lst.remove(hyp)\n",
    "    vals_lst = []\n",
    "    res_lst = []\n",
    "    hv = {hyp_vals[0]:[],hyp_vals[1]:[]}\n",
    "    for i in range(len(res)):\n",
    "        if res[i][0][\"architecture\"]==archi:\n",
    "            vals_lst.append(make_lst(res[i],hyp_lst))\n",
    "            res_lst.append(res[i])\n",
    "    for i in range(len(vals_lst)-1):\n",
    "        for j in range(i+1, len(vals_lst)):\n",
    "            if cmp(vals_lst[i], vals_lst[j])==0:\n",
    "                if res_lst[i][0][hyp]==res_lst[j][0][hyp]:\n",
    "                    continue\n",
    "                hv[res_lst[i][0][hyp]].append(res_lst[i][1][\"dev_ppl\"])\n",
    "                hv[res_lst[j][0][hyp]].append(res_lst[j][1][\"dev_ppl\"])\n",
    "#     for k in hv:\n",
    "#         print(sum(hv[k])/len(hv[k]))\n",
    "    return hv"
   ]
  },
  {
   "cell_type": "code",
   "execution_count": 48,
   "metadata": {
    "collapsed": true
   },
   "outputs": [],
   "source": [
    "def check_single_eval_three(res, hyp, archi, hyp_vals):\n",
    "    if archi==\"rnn\":\n",
    "        hyp_lst = list(rnn_hyps)\n",
    "    elif archi==\"cnn\":\n",
    "        hyp_lst = list(cnn_hyps)\n",
    "    elif archi==\"trans\":\n",
    "        hyp_lst = list(trans_hyps)\n",
    "    hyp_lst.remove(hyp)\n",
    "    vals_lst = []\n",
    "    res_lst = []\n",
    "    hv = {hyp_vals[0]:[],hyp_vals[1]:[], hyp_vals[2]:[]}\n",
    "    for i in range(len(res)):\n",
    "        if res[i][0][\"architecture\"]==archi:\n",
    "            vals_lst.append(make_lst(res[i],hyp_lst))\n",
    "            res_lst.append(res[i])\n",
    "    for i in range(len(vals_lst)-2):\n",
    "        for j in range(i+1, len(vals_lst)-1):\n",
    "            for m in range(i+2, len(vals_lst)):\n",
    "                if cmp(vals_lst[i], vals_lst[j])==0 and cmp(vals_lst[i], vals_lst[m])==0:\n",
    "                    if res_lst[i][0][hyp]==res_lst[j][0][hyp] or res_lst[m][0][hyp]==res_lst[j][0][hyp] or res_lst[i][0][hyp]==res_lst[m][0][hyp]:\n",
    "                        continue\n",
    "                    hv[res_lst[i][0][hyp]].append(res_lst[i][1][\"dev_ppl\"])\n",
    "                    hv[res_lst[j][0][hyp]].append(res_lst[j][1][\"dev_ppl\"])\n",
    "                    hv[res_lst[m][0][hyp]].append(res_lst[m][1][\"dev_ppl\"])\n",
    "    return hv"
   ]
  },
  {
   "cell_type": "code",
   "execution_count": 81,
   "metadata": {},
   "outputs": [
    {
     "data": {
      "text/plain": [
       "167"
      ]
     },
     "execution_count": 81,
     "metadata": {},
     "output_type": "execute_result"
    }
   ],
   "source": [
    "hv = check_single_eval_two(res,\"rnn_cell_type\",\"rnn\", [\"gru\",\"lstm\"])\n",
    "#np.array(hv[\"gru\"])-np.array(hv[\"lstm\"])\n",
    "len(hv[\"gru\"])"
   ]
  },
  {
   "cell_type": "code",
   "execution_count": 60,
   "metadata": {},
   "outputs": [],
   "source": [
    "hv = check_single_eval_two(res,\"num_layers\",\"cnn\", [10,20])\n",
    "#np.array(hv[20])-np.array(hv[10])"
   ]
  },
  {
   "cell_type": "code",
   "execution_count": 84,
   "metadata": {},
   "outputs": [],
   "source": [
    "hv = check_single_eval_three(res, \"rnn_num_hidden\", \"rnn\", [256,512,1024])\n",
    "#np.array(hv[1024])-np.array(hv[256])"
   ]
  },
  {
   "cell_type": "code",
   "execution_count": 80,
   "metadata": {},
   "outputs": [
    {
     "data": {
      "text/plain": [
       "array([-1.05210700e+00, -7.88857400e+00, -4.95600000e-03, -1.11777380e+01,\n",
       "       -1.56812100e+00, -5.22798200e+00,  4.87503719e+09,  4.87503718e+09])"
      ]
     },
     "execution_count": 80,
     "metadata": {},
     "output_type": "execute_result"
    }
   ],
   "source": [
    "hv = check_single_eval_two(res,\"cnn_num_hidden\",\"cnn\", [256,1024])\n",
    "np.array(hv[1024])-np.array(hv[256])"
   ]
  },
  {
   "cell_type": "code",
   "execution_count": 9,
   "metadata": {
    "collapsed": true
   },
   "outputs": [],
   "source": [
    "import matplotlib.pyplot as plt"
   ]
  },
  {
   "cell_type": "code",
   "execution_count": 8,
   "metadata": {
    "collapsed": true
   },
   "outputs": [],
   "source": [
    "import numpy as np"
   ]
  },
  {
   "cell_type": "code",
   "execution_count": 88,
   "metadata": {},
   "outputs": [
    {
     "data": {
      "image/png": "[encoded data removed]",
      "text/plain": [
       "<Figure size 432x288 with 1 Axes>"
      ]
     },
     "metadata": {},
     "output_type": "display_data"
    }
   ],
   "source": [
    "for k in hv:\n",
    "    plt.scatter(np.arange(1, len(hv[k])+1), hv[k])\n",
    "    #plt.scatter(np.arange(1, len(hv[4096])+1), hv[4096])\n",
    "\n",
    "# ks = hv.keys()\n",
    "plt.ylim(20,150)\n",
    "# x = np.arange(1, len(hv[\"gru\"])+1)\n",
    "# y = np.array(hv[\"gru\"])-np.array(hv[\"lstm\"])\n",
    "# plt.plot(x,y,'o',color=\"orange\", label=\"rnn_cell_type:gru-lstm\")\n",
    "# plt.plot(np.arange(1, len(hv[\"gru\"])+1), np.zeros(len(hv[\"gru\"])))\n",
    "# plt.legend()\n",
    "plt.show()\n",
    "# plt.savefig(\"rnn_cell_type.png\",format=\"png\",frameon=False, bbox_inches = 'tight', pad_inches=0)"
   ]
  },
  {
   "cell_type": "code",
   "execution_count": 63,
   "metadata": {},
   "outputs": [],
   "source": [
    "ks = hv.keys()\n",
    "plt.ylim(-20,150)\n",
    "x = np.arange(1, len(hv[10])+1)\n",
    "y = np.array(hv[20])-np.array(hv[10])\n",
    "plt.plot(x,y,'o',color=\"orange\", label=\"cnn_num_layers: 20-10\")\n",
    "plt.plot(np.arange(1, len(hv[20])+1), np.zeros(len(hv[20])))\n",
    "plt.legend()\n",
    "plt.show()\n",
    "#plt.savefig(\"cnn_num_layers.pdf\",format=\"pdf\",frameon=False, bbox_inches = 'tight', pad_inches=0)"
   ]
  },
  {
   "cell_type": "code",
   "execution_count": 79,
   "metadata": {},
   "outputs": [],
   "source": [
    "ks = hv.keys()\n",
    "plt.ylim(-20,150)\n",
    "x = np.arange(1, len(hv[1024])+1)\n",
    "y = np.array(hv[1024])-np.array(hv[256])\n",
    "plt.plot(x,y,'o',color=\"orange\", label=\"rnn_num_hidden: 1024-256\")\n",
    "plt.plot(np.arange(1, len(hv[1024])+1), np.zeros(len(hv[1024])), color=\"blue\")\n",
    "plt.legend()\n",
    "#plt.show()\n",
    "plt.savefig(\"rnn_num_hidden.png\",format=\"png\",frameon=False, bbox_inches = 'tight', pad_inches=0)"
   ]
  },
  {
   "cell_type": "code",
   "execution_count": 89,
   "metadata": {
    "collapsed": true
   },
   "outputs": [],
   "source": [
    "def find_max_min(count, res, archi):\n",
    "    domain_lst = []\n",
    "    eval_lst = []\n",
    "    for r in res:\n",
    "        if r[0][\"architecture\"]==archi:\n",
    "            domain_lst.append(r[0])\n",
    "            eval_lst.append(r[1][\"train_ppl\"])\n",
    "    domain_max_lst = []\n",
    "    eval_max_lst = []\n",
    "    domain_min_lst = []\n",
    "    eval_min_lst = []\n",
    "    for i in range(count):\n",
    "        max_ind = np.argmax(eval_lst)\n",
    "        domain_max_lst.append(domain_lst[max_ind])\n",
    "        eval_max_lst.append(eval_lst[max_ind])\n",
    "        del domain_lst[max_ind]\n",
    "        del eval_lst[max_ind]\n",
    "        \n",
    "        min_ind = np.argmin(eval_lst)\n",
    "        domain_min_lst.append(domain_lst[min_ind])\n",
    "        eval_min_lst.append(eval_lst[min_ind])\n",
    "        del domain_lst[min_ind]\n",
    "        del eval_lst[min_ind]\n",
    "    \n",
    "    return domain_max_lst, eval_max_lst, domain_min_lst, eval_min_lst\n",
    "            \n",
    "    "
   ]
  },
  {
   "cell_type": "code",
   "execution_count": 90,
   "metadata": {},
   "outputs": [
    {
     "ename": "KeyError",
     "evalue": "'train_ppl'",
     "output_type": "error",
     "traceback": [
      "\u001b[0;31m---------------------------------------------------------------------------\u001b[0m",
      "\u001b[0;31mKeyError\u001b[0m                                  Traceback (most recent call last)",
      "\u001b[0;32m<ipython-input-90-508a43458059>\u001b[0m in \u001b[0;36m<module>\u001b[0;34m()\u001b[0m\n\u001b[0;32m----> 1\u001b[0;31m \u001b[0mfind_max_min\u001b[0m\u001b[0;34m(\u001b[0m\u001b[0;36m8\u001b[0m\u001b[0;34m,\u001b[0m \u001b[0mres\u001b[0m\u001b[0;34m,\u001b[0m \u001b[0;34m\"trans\"\u001b[0m\u001b[0;34m)\u001b[0m\u001b[0;34m\u001b[0m\u001b[0m\n\u001b[0m",
      "\u001b[0;32m<ipython-input-89-8ecfa0735d96>\u001b[0m in \u001b[0;36mfind_max_min\u001b[0;34m(count, res, archi)\u001b[0m\n\u001b[1;32m      5\u001b[0m         \u001b[0;32mif\u001b[0m \u001b[0mr\u001b[0m\u001b[0;34m[\u001b[0m\u001b[0;36m0\u001b[0m\u001b[0;34m]\u001b[0m\u001b[0;34m[\u001b[0m\u001b[0;34m\"architecture\"\u001b[0m\u001b[0;34m]\u001b[0m\u001b[0;34m==\u001b[0m\u001b[0marchi\u001b[0m\u001b[0;34m:\u001b[0m\u001b[0;34m\u001b[0m\u001b[0m\n\u001b[1;32m      6\u001b[0m             \u001b[0mdomain_lst\u001b[0m\u001b[0;34m.\u001b[0m\u001b[0mappend\u001b[0m\u001b[0;34m(\u001b[0m\u001b[0mr\u001b[0m\u001b[0;34m[\u001b[0m\u001b[0;36m0\u001b[0m\u001b[0;34m]\u001b[0m\u001b[0;34m)\u001b[0m\u001b[0;34m\u001b[0m\u001b[0m\n\u001b[0;32m----> 7\u001b[0;31m             \u001b[0meval_lst\u001b[0m\u001b[0;34m.\u001b[0m\u001b[0mappend\u001b[0m\u001b[0;34m(\u001b[0m\u001b[0mr\u001b[0m\u001b[0;34m[\u001b[0m\u001b[0;36m1\u001b[0m\u001b[0;34m]\u001b[0m\u001b[0;34m[\u001b[0m\u001b[0;34m\"train_ppl\"\u001b[0m\u001b[0;34m]\u001b[0m\u001b[0;34m)\u001b[0m\u001b[0;34m\u001b[0m\u001b[0m\n\u001b[0m\u001b[1;32m      8\u001b[0m     \u001b[0mdomain_max_lst\u001b[0m \u001b[0;34m=\u001b[0m \u001b[0;34m[\u001b[0m\u001b[0;34m]\u001b[0m\u001b[0;34m\u001b[0m\u001b[0m\n\u001b[1;32m      9\u001b[0m     \u001b[0meval_max_lst\u001b[0m \u001b[0;34m=\u001b[0m \u001b[0;34m[\u001b[0m\u001b[0;34m]\u001b[0m\u001b[0;34m\u001b[0m\u001b[0m\n",
      "\u001b[0;31mKeyError\u001b[0m: 'train_ppl'"
     ]
    }
   ],
   "source": [
    "find_max_min(8, res, \"cnn\")"
   ]
  },
  {
   "cell_type": "code",
   "execution_count": 11,
   "metadata": {
    "collapsed": true
   },
   "outputs": [],
   "source": [
    "import rescale"
   ]
  },
  {
   "cell_type": "code",
   "execution_count": 12,
   "metadata": {
    "collapsed": true
   },
   "outputs": [],
   "source": [
    "def get_x_y(res, archi):\n",
    "    domain_dict_lst = []\n",
    "    eval_lst = []\n",
    "    for r in res:\n",
    "        if r[0][\"architecture\"]==archi:\n",
    "            domain_dict_lst.append(r[0])\n",
    "            eval_lst.append(r[1][\"dev_ppl\"])\n",
    "    if archi==\"rnn\":\n",
    "        rescale_dict = rescale.rnn_rescale_dict\n",
    "        hyps = rescale.rnn_hyps\n",
    "    elif archi==\"cnn\":\n",
    "        rescale_dict = rescale.cnn_rescale_dict\n",
    "        hyps = rescale.cnn_hyps\n",
    "    elif archi==\"trans\":\n",
    "        rescale_dict = rescale.trans_rescale_dict\n",
    "        hyps = rescale.trans_hyps\n",
    "    X = []\n",
    "    X = rescale.rescale(domain_dict_lst, rescale_dict)\n",
    "    Y = eval_lst\n",
    "    return X,Y,hyps"
   ]
  },
  {
   "cell_type": "code",
   "execution_count": 13,
   "metadata": {
    "collapsed": true
   },
   "outputs": [],
   "source": [
    "from sklearn.linear_model import LinearRegression"
   ]
  },
  {
   "cell_type": "code",
   "execution_count": 15,
   "metadata": {},
   "outputs": [],
   "source": [
    "X, Y, hyps = get_x_y(res,\"trans\")\n",
    "X = np.array(X)\n",
    "Y = np.array(Y)\n",
    "reg = LinearRegression().fit(X,Y)"
   ]
  },
  {
   "cell_type": "code",
   "execution_count": 16,
   "metadata": {},
   "outputs": [
    {
     "data": {
      "text/plain": [
       "0.6293349381149611"
      ]
     },
     "execution_count": 16,
     "metadata": {},
     "output_type": "execute_result"
    }
   ],
   "source": [
    "reg.score(X,Y)"
   ]
  },
  {
   "cell_type": "code",
   "execution_count": 117,
   "metadata": {},
   "outputs": [
    {
     "data": {
      "text/plain": [
       "array([32.14612211, 12.24685499, 29.68931133, -1.84956949, 40.97850766,\n",
       "       -2.56766824])"
      ]
     },
     "execution_count": 117,
     "metadata": {},
     "output_type": "execute_result"
    }
   ],
   "source": [
    "reg.coef_"
   ]
  },
  {
   "cell_type": "code",
   "execution_count": 17,
   "metadata": {},
   "outputs": [
    {
     "data": {
      "text/plain": [
       "[('initial_learning_rate', 37.70255421812554),\n",
       " ('transformer_attention_heads', -6.677491039093142),\n",
       " ('num_layers', 7.857441277067832),\n",
       " ('transformer_feed_forward_num_hidden', -0.13026143659167388),\n",
       " ('num_embed', 22.177125960031233),\n",
       " ('transformer_model_size', 22.17712596003105)]"
      ]
     },
     "execution_count": 17,
     "metadata": {},
     "output_type": "execute_result"
    }
   ],
   "source": [
    "list(zip(hyps, reg.coef_))"
   ]
  }
 ],
 "metadata": {
  "kernelspec": {
   "display_name": "Python 2",
   "language": "python",
   "name": "python2"
  },
  "language_info": {
   "codemirror_mode": {
    "name": "ipython",
    "version": 2
   },
   "file_extension": ".py",
   "mimetype": "text/x-python",
   "name": "python",
   "nbconvert_exporter": "python",
   "pygments_lexer": "ipython2",
   "version": "2.7.13"
  }
 },
 "nbformat": 4,
 "nbformat_minor": 2
}
