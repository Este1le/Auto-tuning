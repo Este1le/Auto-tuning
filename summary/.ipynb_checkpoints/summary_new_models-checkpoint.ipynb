{
 "cells": [
  {
   "cell_type": "code",
   "execution_count": 2,
   "metadata": {
    "collapsed": true
   },
   "outputs": [],
   "source": [
    "import matplotlib.pyplot as plt\n",
    "import numpy as np"
   ]
  },
  {
   "cell_type": "code",
   "execution_count": 4,
   "metadata": {},
   "outputs": [],
   "source": [
    "res_file = \"res_ted-ru-en\"\n",
    "#res_file = \"res_robust19-en-ja\"\n",
    "#res_file = \"res_robust19-ja-en\"\n",
    "with open(res_file) as f:\n",
    "    res = f.readlines()\n",
    "res = eval(res[0])"
   ]
  },
  {
   "cell_type": "code",
   "execution_count": 5,
   "metadata": {},
   "outputs": [
    {
     "data": {
      "text/plain": [
       "({'architecture': 'rnn',\n",
       "  'batch_size': 2048.0,\n",
       "  'bpe_symbols': 10000.0,\n",
       "  'initial_learning_rate': 0.0003,\n",
       "  'num_embed': 1024.0,\n",
       "  'num_layers': 1.0,\n",
       "  'rnn_cell_type': 'gru',\n",
       "  'rnn_num_hidden': 1024.0},\n",
       " {'dev_bleu': 17.12,\n",
       "  'dev_gpu_time': 114.5731,\n",
       "  'dev_ppl': 20.489955,\n",
       "  'gpu_memory': 3677,\n",
       "  'num_param': 48058132,\n",
       "  'num_updates': 246000,\n",
       "  'test_bleu': 21.44,\n",
       "  'test_cpu_time': 2734.3317,\n",
       "  'train_ppl': 6.036247})"
      ]
     },
     "execution_count": 5,
     "metadata": {},
     "output_type": "execute_result"
    }
   ],
   "source": [
    "res[0]"
   ]
  },
  {
   "cell_type": "code",
   "execution_count": 12,
   "metadata": {},
   "outputs": [
    {
     "data": {
      "text/plain": [
       "({'architecture': 'trans',\n",
       "  'batch_size': 4096.0,\n",
       "  'bpe_symbols': 10000.0,\n",
       "  'initial_learning_rate': 0.0006,\n",
       "  'num_embed': 512.0,\n",
       "  'num_layers': 2.0,\n",
       "  'transformer_attention_heads': 16.0,\n",
       "  'transformer_feed_forward_num_hidden': 2048.0,\n",
       "  'transformer_model_size': 512.0},\n",
       " {'dev_bleu': 18.84,\n",
       "  'dev_gpu_time': 238.2161,\n",
       "  'dev_ppl': 14.682199,\n",
       "  'gpu_memory': 10189,\n",
       "  'num_param': 30078740,\n",
       "  'num_updates': 40000,\n",
       "  'test_bleu': 23.14,\n",
       "  'test_cpu_time': 1641.8676,\n",
       "  'train_ppl': 3.440195})"
      ]
     },
     "execution_count": 12,
     "metadata": {},
     "output_type": "execute_result"
    }
   ],
   "source": [
    "res[250]"
   ]
  },
  {
   "cell_type": "code",
   "execution_count": 14,
   "metadata": {},
   "outputs": [
    {
     "data": {
      "text/plain": [
       "414"
      ]
     },
     "execution_count": 14,
     "metadata": {},
     "output_type": "execute_result"
    }
   ],
   "source": [
    "len(res)"
   ]
  },
  {
   "cell_type": "code",
   "execution_count": 60,
   "metadata": {
    "collapsed": true
   },
   "outputs": [],
   "source": [
    "rnn_hyps = {'batch_size':[2048,4096],'initial_learning_rate':[0.0003, 0.0006, 0.001], 'num_embed':[512,1024], 'num_layers':[1,2], 'bpe_symbols':[10000,30000,50000],'rnn_cell_type':[\"lstm\", \"gru\"], 'rnn_num_hidden':[512,1024]}\n",
    "#cnn_hyps = {'cnn_kernel_width':[3,5],'cnn_num_hidden':[256,1024],'initial_learning_rate':[0.0003, 0.0006, 0.001],'num_embed':[256,1024],'num_layers':[10, 20],'bpe_symbols':[10000,30000,50000]}\n",
    "trans_hyps = {'initial_learning_rate':[0.0003, 0.0006, 0.001],'num_embed':[256, 512, 1024],'num_layers':[2,4], 'bpe_symbols':[10000,30000,50000],'transformer_attention_heads':[8,16],'transformer_feed_forward_num_hidden':[1024, 2048],'transformer_model_size':[256, 512,1024]}\n"
   ]
  },
  {
   "cell_type": "code",
   "execution_count": 61,
   "metadata": {},
   "outputs": [],
   "source": [
    "def make_lst(oneres, hyp_lst):\n",
    "    vals = [oneres[0][h] for h in hyp_lst]\n",
    "    return vals\n",
    "def get_single_eval(res, archi, hyp, eva, hyp_vals):\n",
    "    if archi==\"rnn\":\n",
    "        hyp_lst = list(rnn_hyps)\n",
    "    elif archi==\"cnn\":\n",
    "        hyp_lst = list(cnn_hyps)\n",
    "    elif archi==\"trans\":\n",
    "        hyp_lst = list(trans_hyps)\n",
    "    hyp_lst.remove(hyp)\n",
    "    vals_lst = []\n",
    "    res_lst = []\n",
    "    for i in range(len(res)):\n",
    "        if res[i][0][\"architecture\"]==archi:\n",
    "            vals_lst.append(make_lst(res[i],hyp_lst))\n",
    "            res_lst.append(res[i])\n",
    "    if len(hyp_vals)==2:\n",
    "        hv = {hyp_vals[0]:[],hyp_vals[1]:[]}\n",
    "        for i in range(len(vals_lst)-1):\n",
    "            for j in range(i+1, len(vals_lst)):\n",
    "                if cmp(vals_lst[i], vals_lst[j])==0:\n",
    "                    if res_lst[i][0][hyp]==res_lst[j][0][hyp]:\n",
    "                        continue\n",
    "                    hv[res_lst[i][0][hyp]].append(res_lst[i][1][eva])\n",
    "                    hv[res_lst[j][0][hyp]].append(res_lst[j][1][eva])\n",
    "    elif len(hyp_vals)==3:\n",
    "        hv = {hyp_vals[0]:[],hyp_vals[1]:[], hyp_vals[2]:[]}\n",
    "        print(vals_lst)\n",
    "        for i in range(len(vals_lst)-2):\n",
    "            for j in range(i+1, len(vals_lst)-1):\n",
    "                for m in range(i+2, len(vals_lst)):\n",
    "                    if cmp(vals_lst[i], vals_lst[j])==0 and cmp(vals_lst[i], vals_lst[m])==0:\n",
    "                        if res_lst[i][0][hyp]==res_lst[j][0][hyp] or res_lst[m][0][hyp]==res_lst[j][0][hyp] or res_lst[i][0][hyp]==res_lst[m][0][hyp]:\n",
    "                            continue\n",
    "                        hv[res_lst[i][0][hyp]].append(res_lst[i][1][eva])\n",
    "                        hv[res_lst[j][0][hyp]].append(res_lst[j][1][eva])\n",
    "                        hv[res_lst[m][0][hyp]].append(res_lst[m][1][eva])\n",
    "    return hv"
   ]
  },
  {
   "cell_type": "code",
   "execution_count": 50,
   "metadata": {
    "collapsed": true
   },
   "outputs": [],
   "source": [
    "def get_diff(hv):\n",
    "    diff = {}\n",
    "    keys = sorted(hv.keys())\n",
    "    if len(keys)>=2:\n",
    "        diff[str(keys[0])+\"-\"+str(keys[1])] = sorted(np.array(hv[keys[0]])-np.array(hv[keys[1]]))\n",
    "        if len(keys)==3:\n",
    "            diff[str(keys[0])+\"-\"+str(keys[2])] = sorted(np.array(hv[keys[1]])-np.array(hv[keys[2]]))\n",
    "    return diff"
   ]
  },
  {
   "cell_type": "code",
   "execution_count": 55,
   "metadata": {},
   "outputs": [],
   "source": [
    "def draw_diff(hv, arch, hyp):\n",
    "    diff = get_diff(hv)\n",
    "\n",
    "    x = np.arange(1, len(hv[hv.keys()[0]])+1)\n",
    "    y = np.array(diff[diff.keys()[0]])\n",
    "    y_ = None\n",
    "    if len(diff) >1:\n",
    "        y_ = np.array(diff[diff.keys()[1]])\n",
    "    #plt.ylim(20,150)\n",
    "    plt.clf()\n",
    "    plt.plot(np.arange(1, len(hv[hv.keys()[0]])+1), np.zeros(len(hv[hv.keys()[0]])))\n",
    "    plt.plot(x,y,'.',color=\"orange\", label=hyp+\":\"+diff.keys()[0])\n",
    "    if y_ is not None:\n",
    "        plt.plot(x,y_,'.',color=\"red\", label=hyp+\":\"+diff.keys()[1])\n",
    "    plt.legend()\n",
    "    #plt.show()\n",
    "    plt.savefig(res_file+\"_\" + arch+ \"_\" + hyp+\".png\",format=\"png\",frameon=False, bbox_inches = 'tight', pad_inches=0)"
   ]
  },
  {
   "cell_type": "code",
   "execution_count": 98,
   "metadata": {},
   "outputs": [],
   "source": [
    "def draw_bar(hv, arch, hyp):\n",
    "    keys = sorted(hv.keys())\n",
    "    numk = len(keys)\n",
    "    \n",
    "    plt.clf()\n",
    "    x = np.arange(1,numk+1)\n",
    "    plt.xticks(np.arange(1,numk+1), keys)\n",
    "    y = np.array([sum(hv[k])/len(hv[k]) for k in keys])\n",
    "    e = np.array([np.std(hv[k]) for k in keys])\n",
    "    plt.errorbar(x, y, e, linestyle='None', marker=\"o\", ecolor=\"lightblue\", elinewidth=3, capsize=5, label=hyp)\n",
    "    plt.legend(loc=0)\n",
    "    plt.savefig(\"err_\" + res_file+\"_\" + arch+ \"_\" + hyp+\".png\",format=\"png\",frameon=False, bbox_inches = 'tight', pad_inches=0)\n"
   ]
  },
  {
   "cell_type": "code",
   "execution_count": 105,
   "metadata": {},
   "outputs": [],
   "source": [
    "arch = \"trans\"\n",
    "eva = \"dev_bleu\"\n",
    "\n",
    "if arch == \"rnn\":\n",
    "    hyp_dic = rnn_hyps\n",
    "elif arch == \"cnn\":\n",
    "    hyp_dic = cnn_hyps\n",
    "elif arch == \"trans\":\n",
    "    hyp_dic = trans_hyps\n",
    "\n",
    "for hyp in hyp_dic.keys():\n",
    "    hv = get_single_eval(res, arch, hyp, eva, hyp_dic[hyp])\n",
    "    if len(hv[hv.keys()[0]]) > 0:\n",
    "        draw_diff(hv, arch, hyp)\n"
   ]
  },
  {
   "cell_type": "code",
   "execution_count": 106,
   "metadata": {},
   "outputs": [],
   "source": [
    "arch = \"trans\"\n",
    "eva = \"dev_bleu\"\n",
    "\n",
    "if arch == \"rnn\":\n",
    "    hyp_dic = rnn_hyps\n",
    "elif arch == \"cnn\":\n",
    "    hyp_dic = cnn_hyps\n",
    "elif arch == \"trans\":\n",
    "    hyp_dic = trans_hyps\n",
    "    \n",
    "for hyp in hyp_dic.keys():\n",
    "    hv = get_single_eval(res, arch, hyp, eva, hyp_dic[hyp])\n",
    "    if len(hv[hv.keys()[0]]) > 0:\n",
    "        draw_bar(hv, arch, hyp)"
   ]
  },
  {
   "cell_type": "code",
   "execution_count": 108,
   "metadata": {},
   "outputs": [
    {
     "name": "stdout",
     "output_type": "stream",
     "text": [
      "{256: [], 512: [], 1024: []}\n"
     ]
    }
   ],
   "source": [
    "arch = \"trans\"\n",
    "eva = \"dev_bleu\"\n",
    "hyp_dic = trans_hyps\n",
    "hyp = \"num_embed\"\n",
    "hv = get_single_eval(res, arch, hyp, eva, hyp_dic[hyp])\n",
    "print(hv)"
   ]
  }
 ],
 "metadata": {
  "kernelspec": {
   "display_name": "Python 2",
   "language": "python",
   "name": "python2"
  },
  "language_info": {
   "codemirror_mode": {
    "name": "ipython",
    "version": 2
   },
   "file_extension": ".py",
   "mimetype": "text/x-python",
   "name": "python",
   "nbconvert_exporter": "python",
   "pygments_lexer": "ipython2",
   "version": "2.7.13"
  }
 },
 "nbformat": 4,
 "nbformat_minor": 2
}
