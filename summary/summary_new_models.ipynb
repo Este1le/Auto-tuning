{
 "cells": [
  {
   "cell_type": "code",
   "execution_count": 2,
   "metadata": {
    "collapsed": true
   },
   "outputs": [],
   "source": [
    "import matplotlib.pyplot as plt\n",
    "import numpy as np"
   ]
  },
  {
   "cell_type": "code",
   "execution_count": 161,
   "metadata": {},
   "outputs": [],
   "source": [
    "#res_file =  \"res\"\n",
    "res_file =  \"res_cnn\"\n",
    "#res_file = \"res_ted-ru-en\"\n",
    "#res_file = \"res_cnn_ted-ru-en\"\n",
    "#res_file = \"res_robust19-en-ja\"\n",
    "#res_file = \"res_robust19-ja-en\"\n",
    "with open(res_file) as f:\n",
    "    res = f.readlines()\n",
    "res = eval(res[0])"
   ]
  },
  {
   "cell_type": "code",
   "execution_count": null,
   "metadata": {
    "collapsed": true
   },
   "outputs": [],
   "source": []
  },
  {
   "cell_type": "code",
   "execution_count": 154,
   "metadata": {},
   "outputs": [
    {
     "data": {
      "text/plain": [
       "({'architecture': 'rnn',\n",
       "  'batch_size': 4096.0,\n",
       "  'bpe_symbols': 10000.0,\n",
       "  'initial_learning_rate': 0.0006,\n",
       "  'num_embed': 256.0,\n",
       "  'num_layers': 4.0,\n",
       "  'rnn_cell_type': 'gru',\n",
       "  'rnn_num_hidden': 512.0},\n",
       " {'dev_cpu_time': 661.677,\n",
       "  'dev_ppl': 36.382934,\n",
       "  'gpu_memory': 6671,\n",
       "  'num_param': 24043796,\n",
       "  'num_updates': 404000})"
      ]
     },
     "execution_count": 154,
     "metadata": {},
     "output_type": "execute_result"
    }
   ],
   "source": [
    "res[100]"
   ]
  },
  {
   "cell_type": "code",
   "execution_count": 149,
   "metadata": {},
   "outputs": [
    {
     "data": {
      "text/plain": [
       "({'architecture': 'trans',\n",
       "  'batch_size': 4096.0,\n",
       "  'bpe_symbols': 50000.0,\n",
       "  'initial_learning_rate': 0.001,\n",
       "  'num_embed': 256.0,\n",
       "  'num_layers': 2.0,\n",
       "  'transformer_attention_heads': 8.0,\n",
       "  'transformer_feed_forward_num_hidden': 2048.0,\n",
       "  'transformer_model_size': 256.0},\n",
       " {'dev_cpu_time': 429.392,\n",
       "  'dev_ppl': 27.935406,\n",
       "  'gpu_memory': 5089,\n",
       "  'num_param': 27952724,\n",
       "  'num_updates': 40000})"
      ]
     },
     "execution_count": 149,
     "metadata": {},
     "output_type": "execute_result"
    }
   ],
   "source": [
    "res[500]"
   ]
  },
  {
   "cell_type": "code",
   "execution_count": 14,
   "metadata": {},
   "outputs": [
    {
     "data": {
      "text/plain": [
       "414"
      ]
     },
     "execution_count": 14,
     "metadata": {},
     "output_type": "execute_result"
    }
   ],
   "source": [
    "len(res)"
   ]
  },
  {
   "cell_type": "code",
   "execution_count": 156,
   "metadata": {
    "collapsed": true
   },
   "outputs": [],
   "source": [
    "#rnn_hyps = {'batch_size':[2048,4096],'initial_learning_rate':[0.0003, 0.0006, 0.001], 'num_embed':[512,1024], 'num_layers':[1,2], 'bpe_symbols':[10000,30000,50000],'rnn_cell_type':[\"lstm\", \"gru\"], 'rnn_num_hidden':[512,1024]}\n",
    "rnn_hyps = {'batch_size':[2048,4096],'initial_learning_rate':[0.0003, 0.0006, 0.001], 'num_embed':[256,512,1024], 'num_layers':[1,2,4], 'rnn_cell_type':[\"lstm\", \"gru\"], 'rnn_num_hidden':[256,512,1024]}\n",
    "#cnn_hyps = {'cnn_kernel_width':[3,5],'cnn_num_hidden':[256,1024],'initial_learning_rate':[0.0003, 0.0006, 0.001],'num_embed':[256,1024],'num_layers':[10, 20],'bpe_symbols':[10000,30000,50000]}\n",
    "cnn_hyps = {'cnn_kernel_width':[3,5],'cnn_num_hidden':[256,1024],'initial_learning_rate':[0.0003, 0.0006, 0.001],'num_embed':[256,1024],'num_layers':[10, 20]}\n",
    "#trans_hyps = {'initial_learning_rate':[0.0003, 0.0006, 0.001],'num_embed':[256, 512, 1024],'num_layers':[2,4], 'bpe_symbols':[10000,30000,50000],'transformer_attention_heads':[8,16],'transformer_feed_forward_num_hidden':[1024, 2048],'transformer_model_size':[256, 512,1024]}\n",
    "trans_hyps = {'initial_learning_rate':[0.0003, 0.0006, 0.001],'num_embed':[256, 512, 1024],'num_layers':[2,4], 'transformer_attention_heads':[8,16],'transformer_feed_forward_num_hidden':[1024, 2048],'transformer_model_size':[256, 512,1024]}\n"
   ]
  },
  {
   "cell_type": "code",
   "execution_count": 123,
   "metadata": {},
   "outputs": [],
   "source": [
    "def make_lst(oneres, hyp_lst):\n",
    "    vals = [oneres[0][h] for h in hyp_lst]\n",
    "    return vals\n",
    "def get_single_eval(res, archi, hyp, eva, hyp_vals):\n",
    "    if archi==\"rnn\":\n",
    "        hyp_lst = list(rnn_hyps)\n",
    "    elif archi==\"cnn\":\n",
    "        hyp_lst = list(cnn_hyps)\n",
    "    elif archi==\"trans\":\n",
    "        hyp_lst = list(trans_hyps)\n",
    "    hyp_lst.remove(hyp)\n",
    "    vals_lst = []\n",
    "    res_lst = []\n",
    "    for i in range(len(res)):\n",
    "        if res[i][0][\"architecture\"]==archi:\n",
    "            vals_lst.append(make_lst(res[i],hyp_lst))\n",
    "            res_lst.append(res[i])\n",
    "    if len(hyp_vals)==2:\n",
    "        hv = {hyp_vals[0]:[],hyp_vals[1]:[]}\n",
    "        for i in range(len(vals_lst)-1):\n",
    "            for j in range(i+1, len(vals_lst)):\n",
    "                if cmp(vals_lst[i], vals_lst[j])==0:\n",
    "                    if res_lst[i][0][hyp]==res_lst[j][0][hyp]:\n",
    "                        continue\n",
    "                    hv[res_lst[i][0][hyp]].append(res_lst[i][1][eva])\n",
    "                    hv[res_lst[j][0][hyp]].append(res_lst[j][1][eva])\n",
    "    elif len(hyp_vals)==3:\n",
    "        hv = {hyp_vals[0]:[],hyp_vals[1]:[], hyp_vals[2]:[]}\n",
    "        for i in range(len(vals_lst)-2):\n",
    "            for j in range(i+1, len(vals_lst)-1):\n",
    "                for m in range(i+2, len(vals_lst)):\n",
    "                    if cmp(vals_lst[i], vals_lst[j])==0 and cmp(vals_lst[i], vals_lst[m])==0:\n",
    "                        #print(res_lst[i][0], res_lst[j][0], res_lst[m][0])\n",
    "                        if res_lst[i][0][hyp]==res_lst[j][0][hyp] or res_lst[m][0][hyp]==res_lst[j][0][hyp] or res_lst[i][0][hyp]==res_lst[m][0][hyp]:\n",
    "                            continue\n",
    "                        hv[res_lst[i][0][hyp]].append(res_lst[i][1][eva])\n",
    "                        hv[res_lst[j][0][hyp]].append(res_lst[j][1][eva])\n",
    "                        hv[res_lst[m][0][hyp]].append(res_lst[m][1][eva])\n",
    "    return hv"
   ]
  },
  {
   "cell_type": "code",
   "execution_count": 128,
   "metadata": {
    "collapsed": true
   },
   "outputs": [],
   "source": [
    "def get_real_single_eval(res, archi, hyp, eva, hyp_vals):\n",
    "    if len(hyp_vals)==2:\n",
    "        hv = {hyp_vals[0]:[],hyp_vals[1]:[]}\n",
    "    elif len(hyp_vals)==3:\n",
    "        hv = {hyp_vals[0]:[],hyp_vals[1]:[], hyp_vals[2]:[]}\n",
    "    for i in range(len(res)):\n",
    "        if res[i][0][\"architecture\"]==archi:\n",
    "            hv[res[i][0][hyp]].append(res[i][1][eva])\n",
    "    return hv\n",
    "        "
   ]
  },
  {
   "cell_type": "code",
   "execution_count": 50,
   "metadata": {
    "collapsed": true
   },
   "outputs": [],
   "source": [
    "def get_diff(hv):\n",
    "    diff = {}\n",
    "    keys = sorted(hv.keys())\n",
    "    if len(keys)>=2:\n",
    "        diff[str(keys[0])+\"-\"+str(keys[1])] = sorted(np.array(hv[keys[0]])-np.array(hv[keys[1]]))\n",
    "        if len(keys)==3:\n",
    "            diff[str(keys[0])+\"-\"+str(keys[2])] = sorted(np.array(hv[keys[1]])-np.array(hv[keys[2]]))\n",
    "    return diff"
   ]
  },
  {
   "cell_type": "code",
   "execution_count": 122,
   "metadata": {},
   "outputs": [],
   "source": [
    "#def draw_diff(hyp_dic, hyp, res, arch, eva):\n",
    "def draw_diff(hv, arch, hyp):\n",
    "    \n",
    "#     if len(hyp_dic[hyp])>=2:\n",
    "#         hv = get_single_eval(res, arch, hyp, eva, hyp_dic[hyp][:2])\n",
    "#         if len(hyp_dic[hyp])==3:\n",
    "#             hv.update(get_single_eval(res, arch, hyp, eva, [hyp_dic[hyp][i] for i in [0,-1]]))\n",
    "    diff = get_diff(hv)\n",
    "    x = np.arange(1, len(hv[hv.keys()[0]])+1)\n",
    "    y = np.array(diff[diff.keys()[0]])\n",
    "    y_ = None\n",
    "    if len(diff) >1:\n",
    "        y_ = np.array(diff[diff.keys()[1]])\n",
    "    #plt.ylim(20,150)\n",
    "    plt.clf()\n",
    "    plt.plot(np.arange(1, len(hv[hv.keys()[0]])+1), np.zeros(len(hv[hv.keys()[0]])))\n",
    "    plt.plot(x,y,'.',color=\"orange\", label=hyp+\":\"+diff.keys()[0])\n",
    "    if y_ is not None:\n",
    "        plt.plot(x,y_,'.',color=\"red\", label=hyp+\":\"+diff.keys()[1])\n",
    "    plt.legend()\n",
    "    #plt.show()\n",
    "    plt.savefig(res_file+\"_\" + arch+ \"_\" + hyp+\".png\",format=\"png\",frameon=False, bbox_inches = 'tight', pad_inches=0)"
   ]
  },
  {
   "cell_type": "code",
   "execution_count": 98,
   "metadata": {},
   "outputs": [],
   "source": [
    "def draw_bar(hv, arch, hyp):\n",
    "    keys = sorted(hv.keys())\n",
    "    numk = len(keys)\n",
    "    \n",
    "    plt.clf()\n",
    "    x = np.arange(1,numk+1)\n",
    "    plt.xticks(np.arange(1,numk+1), keys)\n",
    "    y = np.array([sum(hv[k])/len(hv[k]) for k in keys])\n",
    "    e = np.array([np.std(hv[k]) for k in keys])\n",
    "    plt.errorbar(x, y, e, linestyle='None', marker=\"o\", ecolor=\"lightblue\", elinewidth=3, capsize=5, label=hyp)\n",
    "    plt.legend(loc=0)\n",
    "    plt.savefig(\"err_\" + res_file+\"_\" + arch+ \"_\" + hyp+\".png\",format=\"png\",frameon=False, bbox_inches = 'tight', pad_inches=0)\n"
   ]
  },
  {
   "cell_type": "code",
   "execution_count": 162,
   "metadata": {},
   "outputs": [],
   "source": [
    "arch = \"cnn\"\n",
    "eva = \"train_ppl\"\n",
    "\n",
    "if arch == \"rnn\":\n",
    "    hyp_dic = rnn_hyps\n",
    "elif arch == \"cnn\":\n",
    "    hyp_dic = cnn_hyps\n",
    "elif arch == \"trans\":\n",
    "    hyp_dic = trans_hyps\n",
    "\n",
    "for hyp in hyp_dic.keys():\n",
    "    hv = get_single_eval(res, arch, hyp, eva, hyp_dic[hyp])\n",
    "    if len(hv[hv.keys()[0]]) > 0:\n",
    "        draw_diff(hv, arch, hyp)\n",
    "    #draw_diff(hyp_dic, hyp, res, arch, eva)\n"
   ]
  },
  {
   "cell_type": "code",
   "execution_count": null,
   "metadata": {
    "collapsed": true
   },
   "outputs": [],
   "source": []
  },
  {
   "cell_type": "code",
   "execution_count": 163,
   "metadata": {},
   "outputs": [],
   "source": [
    "arch = \"cnn\"\n",
    "eva = \"train_ppl\"\n",
    "\n",
    "if arch == \"rnn\":\n",
    "    hyp_dic = rnn_hyps\n",
    "elif arch == \"cnn\":\n",
    "    hyp_dic = cnn_hyps\n",
    "elif arch == \"trans\":\n",
    "    hyp_dic = trans_hyps\n",
    "    \n",
    "for hyp in hyp_dic.keys():\n",
    "#for hyp in [\"transformer_model_size\"]:\n",
    "    hv = get_real_single_eval(res, arch, hyp, eva, hyp_dic[hyp])\n",
    "    if len(hv[hv.keys()[0]]) > 0:\n",
    "        draw_bar(hv, arch, hyp)"
   ]
  },
  {
   "cell_type": "code",
   "execution_count": 115,
   "metadata": {},
   "outputs": [
    {
     "name": "stdout",
     "output_type": "stream",
     "text": [
      "{256: [], 512: [], 1024: []}\n"
     ]
    }
   ],
   "source": []
  }
 ],
 "metadata": {
  "kernelspec": {
   "display_name": "Python 2",
   "language": "python",
   "name": "python2"
  },
  "language_info": {
   "codemirror_mode": {
    "name": "ipython",
    "version": 2
   },
   "file_extension": ".py",
   "mimetype": "text/x-python",
   "name": "python",
   "nbconvert_exporter": "python",
   "pygments_lexer": "ipython2",
   "version": "2.7.13"
  }
 },
 "nbformat": 4,
 "nbformat_minor": 2
}
